{
 "cells": [
  {
   "attachments": {},
   "cell_type": "markdown",
   "metadata": {},
   "source": [
    "Importing the libraries"
   ]
  },
  {
   "cell_type": "code",
   "execution_count": 1,
   "metadata": {},
   "outputs": [],
   "source": [
    "import numpy as np\n",
    "import pandas as pd"
   ]
  },
  {
   "attachments": {},
   "cell_type": "markdown",
   "metadata": {},
   "source": [
    "# Loading the dataset"
   ]
  },
  {
   "cell_type": "code",
   "execution_count": 2,
   "metadata": {},
   "outputs": [],
   "source": [
    "train_df      = pd.read_csv('./train.csv')\n",
    "test_df       = pd.read_csv('./test.csv')\n",
    "submission_df = pd.read_csv('./submission.csv')"
   ]
  },
  {
   "cell_type": "code",
   "execution_count": 3,
   "metadata": {},
   "outputs": [
    {
     "data": {
      "text/html": [
       "<div>\n",
       "<style scoped>\n",
       "    .dataframe tbody tr th:only-of-type {\n",
       "        vertical-align: middle;\n",
       "    }\n",
       "\n",
       "    .dataframe tbody tr th {\n",
       "        vertical-align: top;\n",
       "    }\n",
       "\n",
       "    .dataframe thead th {\n",
       "        text-align: right;\n",
       "    }\n",
       "</style>\n",
       "<table border=\"1\" class=\"dataframe\">\n",
       "  <thead>\n",
       "    <tr style=\"text-align: right;\">\n",
       "      <th></th>\n",
       "      <th>Id</th>\n",
       "      <th>Province_State</th>\n",
       "      <th>Country_Region</th>\n",
       "      <th>Date</th>\n",
       "      <th>ConfirmedCases</th>\n",
       "      <th>Fatalities</th>\n",
       "    </tr>\n",
       "  </thead>\n",
       "  <tbody>\n",
       "    <tr>\n",
       "      <th>0</th>\n",
       "      <td>1</td>\n",
       "      <td>NaN</td>\n",
       "      <td>Afghanistan</td>\n",
       "      <td>2020-01-22</td>\n",
       "      <td>0.0</td>\n",
       "      <td>0.0</td>\n",
       "    </tr>\n",
       "    <tr>\n",
       "      <th>1</th>\n",
       "      <td>2</td>\n",
       "      <td>NaN</td>\n",
       "      <td>Afghanistan</td>\n",
       "      <td>2020-01-23</td>\n",
       "      <td>0.0</td>\n",
       "      <td>0.0</td>\n",
       "    </tr>\n",
       "    <tr>\n",
       "      <th>2</th>\n",
       "      <td>3</td>\n",
       "      <td>NaN</td>\n",
       "      <td>Afghanistan</td>\n",
       "      <td>2020-01-24</td>\n",
       "      <td>0.0</td>\n",
       "      <td>0.0</td>\n",
       "    </tr>\n",
       "    <tr>\n",
       "      <th>3</th>\n",
       "      <td>4</td>\n",
       "      <td>NaN</td>\n",
       "      <td>Afghanistan</td>\n",
       "      <td>2020-01-25</td>\n",
       "      <td>0.0</td>\n",
       "      <td>0.0</td>\n",
       "    </tr>\n",
       "    <tr>\n",
       "      <th>4</th>\n",
       "      <td>5</td>\n",
       "      <td>NaN</td>\n",
       "      <td>Afghanistan</td>\n",
       "      <td>2020-01-26</td>\n",
       "      <td>0.0</td>\n",
       "      <td>0.0</td>\n",
       "    </tr>\n",
       "    <tr>\n",
       "      <th>...</th>\n",
       "      <td>...</td>\n",
       "      <td>...</td>\n",
       "      <td>...</td>\n",
       "      <td>...</td>\n",
       "      <td>...</td>\n",
       "      <td>...</td>\n",
       "    </tr>\n",
       "    <tr>\n",
       "      <th>35990</th>\n",
       "      <td>35991</td>\n",
       "      <td>NaN</td>\n",
       "      <td>Zimbabwe</td>\n",
       "      <td>2020-05-11</td>\n",
       "      <td>36.0</td>\n",
       "      <td>4.0</td>\n",
       "    </tr>\n",
       "    <tr>\n",
       "      <th>35991</th>\n",
       "      <td>35992</td>\n",
       "      <td>NaN</td>\n",
       "      <td>Zimbabwe</td>\n",
       "      <td>2020-05-12</td>\n",
       "      <td>36.0</td>\n",
       "      <td>4.0</td>\n",
       "    </tr>\n",
       "    <tr>\n",
       "      <th>35992</th>\n",
       "      <td>35993</td>\n",
       "      <td>NaN</td>\n",
       "      <td>Zimbabwe</td>\n",
       "      <td>2020-05-13</td>\n",
       "      <td>37.0</td>\n",
       "      <td>4.0</td>\n",
       "    </tr>\n",
       "    <tr>\n",
       "      <th>35993</th>\n",
       "      <td>35994</td>\n",
       "      <td>NaN</td>\n",
       "      <td>Zimbabwe</td>\n",
       "      <td>2020-05-14</td>\n",
       "      <td>37.0</td>\n",
       "      <td>4.0</td>\n",
       "    </tr>\n",
       "    <tr>\n",
       "      <th>35994</th>\n",
       "      <td>35995</td>\n",
       "      <td>NaN</td>\n",
       "      <td>Zimbabwe</td>\n",
       "      <td>2020-05-15</td>\n",
       "      <td>42.0</td>\n",
       "      <td>4.0</td>\n",
       "    </tr>\n",
       "  </tbody>\n",
       "</table>\n",
       "<p>35995 rows × 6 columns</p>\n",
       "</div>"
      ],
      "text/plain": [
       "          Id Province_State Country_Region        Date  ConfirmedCases  \\\n",
       "0          1            NaN    Afghanistan  2020-01-22             0.0   \n",
       "1          2            NaN    Afghanistan  2020-01-23             0.0   \n",
       "2          3            NaN    Afghanistan  2020-01-24             0.0   \n",
       "3          4            NaN    Afghanistan  2020-01-25             0.0   \n",
       "4          5            NaN    Afghanistan  2020-01-26             0.0   \n",
       "...      ...            ...            ...         ...             ...   \n",
       "35990  35991            NaN       Zimbabwe  2020-05-11            36.0   \n",
       "35991  35992            NaN       Zimbabwe  2020-05-12            36.0   \n",
       "35992  35993            NaN       Zimbabwe  2020-05-13            37.0   \n",
       "35993  35994            NaN       Zimbabwe  2020-05-14            37.0   \n",
       "35994  35995            NaN       Zimbabwe  2020-05-15            42.0   \n",
       "\n",
       "       Fatalities  \n",
       "0             0.0  \n",
       "1             0.0  \n",
       "2             0.0  \n",
       "3             0.0  \n",
       "4             0.0  \n",
       "...           ...  \n",
       "35990         4.0  \n",
       "35991         4.0  \n",
       "35992         4.0  \n",
       "35993         4.0  \n",
       "35994         4.0  \n",
       "\n",
       "[35995 rows x 6 columns]"
      ]
     },
     "execution_count": 3,
     "metadata": {},
     "output_type": "execute_result"
    }
   ],
   "source": [
    "train_df"
   ]
  },
  {
   "attachments": {},
   "cell_type": "markdown",
   "metadata": {},
   "source": [
    "# Feature engineering"
   ]
  },
  {
   "cell_type": "code",
   "execution_count": 4,
   "metadata": {},
   "outputs": [
    {
     "data": {
      "text/html": [
       "<div>\n",
       "<style scoped>\n",
       "    .dataframe tbody tr th:only-of-type {\n",
       "        vertical-align: middle;\n",
       "    }\n",
       "\n",
       "    .dataframe tbody tr th {\n",
       "        vertical-align: top;\n",
       "    }\n",
       "\n",
       "    .dataframe thead th {\n",
       "        text-align: right;\n",
       "    }\n",
       "</style>\n",
       "<table border=\"1\" class=\"dataframe\">\n",
       "  <thead>\n",
       "    <tr style=\"text-align: right;\">\n",
       "      <th></th>\n",
       "      <th>Id</th>\n",
       "      <th>ConfirmedCases</th>\n",
       "      <th>Fatalities</th>\n",
       "    </tr>\n",
       "  </thead>\n",
       "  <tbody>\n",
       "    <tr>\n",
       "      <th>count</th>\n",
       "      <td>35995.000000</td>\n",
       "      <td>35995.000000</td>\n",
       "      <td>35995.000000</td>\n",
       "    </tr>\n",
       "    <tr>\n",
       "      <th>mean</th>\n",
       "      <td>17998.000000</td>\n",
       "      <td>3683.508737</td>\n",
       "      <td>243.560217</td>\n",
       "    </tr>\n",
       "    <tr>\n",
       "      <th>std</th>\n",
       "      <td>10391.005806</td>\n",
       "      <td>18986.978708</td>\n",
       "      <td>1832.966999</td>\n",
       "    </tr>\n",
       "    <tr>\n",
       "      <th>min</th>\n",
       "      <td>1.000000</td>\n",
       "      <td>0.000000</td>\n",
       "      <td>0.000000</td>\n",
       "    </tr>\n",
       "    <tr>\n",
       "      <th>25%</th>\n",
       "      <td>8999.500000</td>\n",
       "      <td>0.000000</td>\n",
       "      <td>0.000000</td>\n",
       "    </tr>\n",
       "    <tr>\n",
       "      <th>50%</th>\n",
       "      <td>17998.000000</td>\n",
       "      <td>19.000000</td>\n",
       "      <td>0.000000</td>\n",
       "    </tr>\n",
       "    <tr>\n",
       "      <th>75%</th>\n",
       "      <td>26996.500000</td>\n",
       "      <td>543.000000</td>\n",
       "      <td>7.000000</td>\n",
       "    </tr>\n",
       "    <tr>\n",
       "      <th>max</th>\n",
       "      <td>35995.000000</td>\n",
       "      <td>345813.000000</td>\n",
       "      <td>33998.000000</td>\n",
       "    </tr>\n",
       "  </tbody>\n",
       "</table>\n",
       "</div>"
      ],
      "text/plain": [
       "                 Id  ConfirmedCases    Fatalities\n",
       "count  35995.000000    35995.000000  35995.000000\n",
       "mean   17998.000000     3683.508737    243.560217\n",
       "std    10391.005806    18986.978708   1832.966999\n",
       "min        1.000000        0.000000      0.000000\n",
       "25%     8999.500000        0.000000      0.000000\n",
       "50%    17998.000000       19.000000      0.000000\n",
       "75%    26996.500000      543.000000      7.000000\n",
       "max    35995.000000   345813.000000  33998.000000"
      ]
     },
     "execution_count": 4,
     "metadata": {},
     "output_type": "execute_result"
    }
   ],
   "source": [
    "train_df.describe()"
   ]
  },
  {
   "cell_type": "code",
   "execution_count": 5,
   "metadata": {},
   "outputs": [
    {
     "data": {
      "text/plain": [
       "(35995, 6)"
      ]
     },
     "execution_count": 5,
     "metadata": {},
     "output_type": "execute_result"
    }
   ],
   "source": [
    "train_df.shape"
   ]
  },
  {
   "attachments": {},
   "cell_type": "markdown",
   "metadata": {},
   "source": [
    "## Check for missing values"
   ]
  },
  {
   "cell_type": "code",
   "execution_count": 6,
   "metadata": {},
   "outputs": [
    {
     "data": {
      "text/plain": [
       "Id                 0.000000\n",
       "Province_State    57.507987\n",
       "Country_Region     0.000000\n",
       "Date               0.000000\n",
       "ConfirmedCases     0.000000\n",
       "Fatalities         0.000000\n",
       "dtype: float64"
      ]
     },
     "metadata": {},
     "output_type": "display_data"
    },
    {
     "data": {
      "text/plain": [
       "ForecastId         0.000000\n",
       "Province_State    57.507987\n",
       "Country_Region     0.000000\n",
       "Date               0.000000\n",
       "dtype: float64"
      ]
     },
     "metadata": {},
     "output_type": "display_data"
    }
   ],
   "source": [
    "display(train_df.isnull().sum() / len(train_df) * 100)\n",
    "display(test_df.isnull().sum() / len(test_df) * 100)"
   ]
  },
  {
   "attachments": {},
   "cell_type": "markdown",
   "metadata": {},
   "source": [
    "## Check for data range in both datasets"
   ]
  },
  {
   "cell_type": "code",
   "execution_count": 7,
   "metadata": {},
   "outputs": [
    {
     "name": "stdout",
     "output_type": "stream",
     "text": [
      "The lowest date in the train dataset is 2020-01-22 and the highest 2020-05-15\n",
      "The lowest date in the test dataset is 2020-04-02 and the highest 2020-05-14\n"
     ]
    }
   ],
   "source": [
    "print(\"The lowest date in the train dataset is {} and the highest {}\".format(train_df['Date'].min(), train_df['Date'].max()))\n",
    "print(\"The lowest date in the test dataset is {} and the highest {}\".format(test_df['Date'].min(), test_df['Date'].max()))"
   ]
  },
  {
   "attachments": {},
   "cell_type": "markdown",
   "metadata": {},
   "source": [
    "## Renaming some features"
   ]
  },
  {
   "cell_type": "code",
   "execution_count": 8,
   "metadata": {},
   "outputs": [],
   "source": [
    "train_df.rename(columns={'Province_State':'State','Country_Region':'Country'}, inplace=True)\n",
    "test_df.rename(columns={'Province_State':'State','Country_Region':'Country'}, inplace=True)"
   ]
  },
  {
   "attachments": {},
   "cell_type": "markdown",
   "metadata": {},
   "source": [
    "function for replacing all the missings in the state column"
   ]
  },
  {
   "cell_type": "code",
   "execution_count": 9,
   "metadata": {},
   "outputs": [],
   "source": [
    "def missings(state, country):\n",
    "  return country if pd.isna(state) == True else state"
   ]
  },
  {
   "cell_type": "code",
   "execution_count": 10,
   "metadata": {},
   "outputs": [],
   "source": [
    "train_df['State'] = train_df.apply(lambda x: missings(x['State'], x['Country']), axis=1)\n",
    "test_df['State'] = test_df.apply(lambda x: missings(x['State'], x['Country']), axis=1)"
   ]
  },
  {
   "cell_type": "code",
   "execution_count": 11,
   "metadata": {},
   "outputs": [
    {
     "data": {
      "text/plain": [
       "Id                0.0\n",
       "State             0.0\n",
       "Country           0.0\n",
       "Date              0.0\n",
       "ConfirmedCases    0.0\n",
       "Fatalities        0.0\n",
       "dtype: float64"
      ]
     },
     "metadata": {},
     "output_type": "display_data"
    },
    {
     "data": {
      "text/plain": [
       "ForecastId    0.0\n",
       "State         0.0\n",
       "Country       0.0\n",
       "Date          0.0\n",
       "dtype: float64"
      ]
     },
     "metadata": {},
     "output_type": "display_data"
    }
   ],
   "source": [
    "display(train_df.isnull().sum() / len(train_df) * 100)\n",
    "display(test_df.isnull().sum() / len(test_df) * 100)"
   ]
  },
  {
   "cell_type": "code",
   "execution_count": 12,
   "metadata": {},
   "outputs": [
    {
     "name": "stdout",
     "output_type": "stream",
     "text": [
      "In our dataset are 184 countries and 312 states\n"
     ]
    }
   ],
   "source": [
    "print('In our dataset are {} countries and {} states'.format(train_df['Country'].nunique(), train_df['State'].nunique()))"
   ]
  },
  {
   "cell_type": "code",
   "execution_count": 16,
   "metadata": {
    "notebookRunGroups": {
     "groupValue": ""
    }
   },
   "outputs": [
    {
     "data": {
      "text/html": [
       "<div>\n",
       "<style scoped>\n",
       "    .dataframe tbody tr th:only-of-type {\n",
       "        vertical-align: middle;\n",
       "    }\n",
       "\n",
       "    .dataframe tbody tr th {\n",
       "        vertical-align: top;\n",
       "    }\n",
       "\n",
       "    .dataframe thead th {\n",
       "        text-align: right;\n",
       "    }\n",
       "</style>\n",
       "<table border=\"1\" class=\"dataframe\">\n",
       "  <thead>\n",
       "    <tr style=\"text-align: right;\">\n",
       "      <th></th>\n",
       "      <th>Country</th>\n",
       "      <th>ConfirmedCases</th>\n",
       "      <th>Fatalities</th>\n",
       "    </tr>\n",
       "  </thead>\n",
       "  <tbody>\n",
       "    <tr>\n",
       "      <th>0</th>\n",
       "      <td>US</td>\n",
       "      <td>1442653.0</td>\n",
       "      <td>87525.0</td>\n",
       "    </tr>\n",
       "    <tr>\n",
       "      <th>1</th>\n",
       "      <td>Russia</td>\n",
       "      <td>262843.0</td>\n",
       "      <td>2418.0</td>\n",
       "    </tr>\n",
       "    <tr>\n",
       "      <th>2</th>\n",
       "      <td>United Kingdom</td>\n",
       "      <td>238005.0</td>\n",
       "      <td>34078.0</td>\n",
       "    </tr>\n",
       "    <tr>\n",
       "      <th>3</th>\n",
       "      <td>Spain</td>\n",
       "      <td>230183.0</td>\n",
       "      <td>27459.0</td>\n",
       "    </tr>\n",
       "    <tr>\n",
       "      <th>4</th>\n",
       "      <td>Italy</td>\n",
       "      <td>223885.0</td>\n",
       "      <td>31610.0</td>\n",
       "    </tr>\n",
       "    <tr>\n",
       "      <th>...</th>\n",
       "      <td>...</td>\n",
       "      <td>...</td>\n",
       "      <td>...</td>\n",
       "    </tr>\n",
       "    <tr>\n",
       "      <th>179</th>\n",
       "      <td>Seychelles</td>\n",
       "      <td>11.0</td>\n",
       "      <td>0.0</td>\n",
       "    </tr>\n",
       "    <tr>\n",
       "      <th>180</th>\n",
       "      <td>Suriname</td>\n",
       "      <td>10.0</td>\n",
       "      <td>1.0</td>\n",
       "    </tr>\n",
       "    <tr>\n",
       "      <th>181</th>\n",
       "      <td>MS Zaandam</td>\n",
       "      <td>9.0</td>\n",
       "      <td>2.0</td>\n",
       "    </tr>\n",
       "    <tr>\n",
       "      <th>182</th>\n",
       "      <td>Papua New Guinea</td>\n",
       "      <td>8.0</td>\n",
       "      <td>0.0</td>\n",
       "    </tr>\n",
       "    <tr>\n",
       "      <th>183</th>\n",
       "      <td>Western Sahara</td>\n",
       "      <td>6.0</td>\n",
       "      <td>0.0</td>\n",
       "    </tr>\n",
       "  </tbody>\n",
       "</table>\n",
       "<p>184 rows × 3 columns</p>\n",
       "</div>"
      ],
      "text/plain": [
       "              Country  ConfirmedCases  Fatalities\n",
       "0                  US       1442653.0     87525.0\n",
       "1              Russia        262843.0      2418.0\n",
       "2      United Kingdom        238005.0     34078.0\n",
       "3               Spain        230183.0     27459.0\n",
       "4               Italy        223885.0     31610.0\n",
       "..                ...             ...         ...\n",
       "179        Seychelles            11.0         0.0\n",
       "180          Suriname            10.0         1.0\n",
       "181        MS Zaandam             9.0         2.0\n",
       "182  Papua New Guinea             8.0         0.0\n",
       "183    Western Sahara             6.0         0.0\n",
       "\n",
       "[184 rows x 3 columns]"
      ]
     },
     "execution_count": 16,
     "metadata": {},
     "output_type": "execute_result"
    }
   ],
   "source": [
    "df_confirmedcases = train_df.groupby(['Country','State']).max().groupby('Country').sum().sort_values(by='ConfirmedCases', ascending=False).reset_index().drop(columns='Id')\n",
    "df_confirmedcases"
   ]
  },
  {
   "cell_type": "code",
   "execution_count": 17,
   "metadata": {},
   "outputs": [
    {
     "data": {
      "text/html": [
       "<style type=\"text/css\">\n",
       "#T_29741_row0_col0, #T_29741_row0_col1 {\n",
       "  background-color: #7f2704;\n",
       "  color: #f1f1f1;\n",
       "}\n",
       "#T_29741_row1_col0 {\n",
       "  background-color: #fee0c3;\n",
       "  color: #000000;\n",
       "}\n",
       "#T_29741_row1_col1, #T_29741_row11_col1, #T_29741_row13_col0 {\n",
       "  background-color: #fff2e6;\n",
       "  color: #000000;\n",
       "}\n",
       "#T_29741_row2_col0 {\n",
       "  background-color: #fee3c8;\n",
       "  color: #000000;\n",
       "}\n",
       "#T_29741_row2_col1 {\n",
       "  background-color: #fdab66;\n",
       "  color: #000000;\n",
       "}\n",
       "#T_29741_row3_col0 {\n",
       "  background-color: #fee5cb;\n",
       "  color: #000000;\n",
       "}\n",
       "#T_29741_row3_col1, #T_29741_row6_col1 {\n",
       "  background-color: #fdc088;\n",
       "  color: #000000;\n",
       "}\n",
       "#T_29741_row4_col0, #T_29741_row5_col0 {\n",
       "  background-color: #fee5cc;\n",
       "  color: #000000;\n",
       "}\n",
       "#T_29741_row4_col1 {\n",
       "  background-color: #fdb373;\n",
       "  color: #000000;\n",
       "}\n",
       "#T_29741_row5_col1 {\n",
       "  background-color: #fedebf;\n",
       "  color: #000000;\n",
       "}\n",
       "#T_29741_row6_col0, #T_29741_row14_col1 {\n",
       "  background-color: #fee9d4;\n",
       "  color: #000000;\n",
       "}\n",
       "#T_29741_row7_col0 {\n",
       "  background-color: #feead5;\n",
       "  color: #000000;\n",
       "}\n",
       "#T_29741_row7_col1 {\n",
       "  background-color: #feebd7;\n",
       "  color: #000000;\n",
       "}\n",
       "#T_29741_row8_col0, #T_29741_row9_col1 {\n",
       "  background-color: #feecda;\n",
       "  color: #000000;\n",
       "}\n",
       "#T_29741_row8_col1 {\n",
       "  background-color: #fff0e1;\n",
       "  color: #000000;\n",
       "}\n",
       "#T_29741_row9_col0 {\n",
       "  background-color: #ffeede;\n",
       "  color: #000000;\n",
       "}\n",
       "#T_29741_row10_col0, #T_29741_row11_col0, #T_29741_row12_col0 {\n",
       "  background-color: #fff1e4;\n",
       "  color: #000000;\n",
       "}\n",
       "#T_29741_row10_col1 {\n",
       "  background-color: #fff2e5;\n",
       "  color: #000000;\n",
       "}\n",
       "#T_29741_row12_col1 {\n",
       "  background-color: #ffefe0;\n",
       "  color: #000000;\n",
       "}\n",
       "#T_29741_row13_col1, #T_29741_row17_col1 {\n",
       "  background-color: #ffeedd;\n",
       "  color: #000000;\n",
       "}\n",
       "#T_29741_row14_col0 {\n",
       "  background-color: #fff4e9;\n",
       "  color: #000000;\n",
       "}\n",
       "#T_29741_row15_col0, #T_29741_row16_col0, #T_29741_row19_col1 {\n",
       "  background-color: #fff5ea;\n",
       "  color: #000000;\n",
       "}\n",
       "#T_29741_row15_col1, #T_29741_row17_col0, #T_29741_row18_col0, #T_29741_row18_col1, #T_29741_row19_col0 {\n",
       "  background-color: #fff5eb;\n",
       "  color: #000000;\n",
       "}\n",
       "#T_29741_row16_col1 {\n",
       "  background-color: #ffefdf;\n",
       "  color: #000000;\n",
       "}\n",
       "</style>\n",
       "<table id=\"T_29741_\">\n",
       "  <thead>\n",
       "    <tr>\n",
       "      <th class=\"blank level0\" >&nbsp;</th>\n",
       "      <th class=\"col_heading level0 col0\" >ConfirmedCases</th>\n",
       "      <th class=\"col_heading level0 col1\" >Fatalities</th>\n",
       "    </tr>\n",
       "    <tr>\n",
       "      <th class=\"index_name level0\" >Country</th>\n",
       "      <th class=\"blank col0\" >&nbsp;</th>\n",
       "      <th class=\"blank col1\" >&nbsp;</th>\n",
       "    </tr>\n",
       "  </thead>\n",
       "  <tbody>\n",
       "    <tr>\n",
       "      <th id=\"T_29741_level0_row0\" class=\"row_heading level0 row0\" >US</th>\n",
       "      <td id=\"T_29741_row0_col0\" class=\"data row0 col0\" >1442653.000000</td>\n",
       "      <td id=\"T_29741_row0_col1\" class=\"data row0 col1\" >87525.000000</td>\n",
       "    </tr>\n",
       "    <tr>\n",
       "      <th id=\"T_29741_level0_row1\" class=\"row_heading level0 row1\" >Russia</th>\n",
       "      <td id=\"T_29741_row1_col0\" class=\"data row1 col0\" >262843.000000</td>\n",
       "      <td id=\"T_29741_row1_col1\" class=\"data row1 col1\" >2418.000000</td>\n",
       "    </tr>\n",
       "    <tr>\n",
       "      <th id=\"T_29741_level0_row2\" class=\"row_heading level0 row2\" >United Kingdom</th>\n",
       "      <td id=\"T_29741_row2_col0\" class=\"data row2 col0\" >238005.000000</td>\n",
       "      <td id=\"T_29741_row2_col1\" class=\"data row2 col1\" >34078.000000</td>\n",
       "    </tr>\n",
       "    <tr>\n",
       "      <th id=\"T_29741_level0_row3\" class=\"row_heading level0 row3\" >Spain</th>\n",
       "      <td id=\"T_29741_row3_col0\" class=\"data row3 col0\" >230183.000000</td>\n",
       "      <td id=\"T_29741_row3_col1\" class=\"data row3 col1\" >27459.000000</td>\n",
       "    </tr>\n",
       "    <tr>\n",
       "      <th id=\"T_29741_level0_row4\" class=\"row_heading level0 row4\" >Italy</th>\n",
       "      <td id=\"T_29741_row4_col0\" class=\"data row4 col0\" >223885.000000</td>\n",
       "      <td id=\"T_29741_row4_col1\" class=\"data row4 col1\" >31610.000000</td>\n",
       "    </tr>\n",
       "    <tr>\n",
       "      <th id=\"T_29741_level0_row5\" class=\"row_heading level0 row5\" >Brazil</th>\n",
       "      <td id=\"T_29741_row5_col0\" class=\"data row5 col0\" >220291.000000</td>\n",
       "      <td id=\"T_29741_row5_col1\" class=\"data row5 col1\" >14962.000000</td>\n",
       "    </tr>\n",
       "    <tr>\n",
       "      <th id=\"T_29741_level0_row6\" class=\"row_heading level0 row6\" >France</th>\n",
       "      <td id=\"T_29741_row6_col0\" class=\"data row6 col0\" >179630.000000</td>\n",
       "      <td id=\"T_29741_row6_col1\" class=\"data row6 col1\" >27532.000000</td>\n",
       "    </tr>\n",
       "    <tr>\n",
       "      <th id=\"T_29741_level0_row7\" class=\"row_heading level0 row7\" >Germany</th>\n",
       "      <td id=\"T_29741_row7_col0\" class=\"data row7 col0\" >175233.000000</td>\n",
       "      <td id=\"T_29741_row7_col1\" class=\"data row7 col1\" >7897.000000</td>\n",
       "    </tr>\n",
       "    <tr>\n",
       "      <th id=\"T_29741_level0_row8\" class=\"row_heading level0 row8\" >Turkey</th>\n",
       "      <td id=\"T_29741_row8_col0\" class=\"data row8 col0\" >146457.000000</td>\n",
       "      <td id=\"T_29741_row8_col1\" class=\"data row8 col1\" >4055.000000</td>\n",
       "    </tr>\n",
       "    <tr>\n",
       "      <th id=\"T_29741_level0_row9\" class=\"row_heading level0 row9\" >Iran</th>\n",
       "      <td id=\"T_29741_row9_col0\" class=\"data row9 col0\" >116635.000000</td>\n",
       "      <td id=\"T_29741_row9_col1\" class=\"data row9 col1\" >6902.000000</td>\n",
       "    </tr>\n",
       "    <tr>\n",
       "      <th id=\"T_29741_level0_row10\" class=\"row_heading level0 row10\" >India</th>\n",
       "      <td id=\"T_29741_row10_col0\" class=\"data row10 col0\" >85784.000000</td>\n",
       "      <td id=\"T_29741_row10_col1\" class=\"data row10 col1\" >2753.000000</td>\n",
       "    </tr>\n",
       "    <tr>\n",
       "      <th id=\"T_29741_level0_row11\" class=\"row_heading level0 row11\" >Peru</th>\n",
       "      <td id=\"T_29741_row11_col0\" class=\"data row11 col0\" >84495.000000</td>\n",
       "      <td id=\"T_29741_row11_col1\" class=\"data row11 col1\" >2392.000000</td>\n",
       "    </tr>\n",
       "    <tr>\n",
       "      <th id=\"T_29741_level0_row12\" class=\"row_heading level0 row12\" >China</th>\n",
       "      <td id=\"T_29741_row12_col0\" class=\"data row12 col0\" >84038.000000</td>\n",
       "      <td id=\"T_29741_row12_col1\" class=\"data row12 col1\" >4637.000000</td>\n",
       "    </tr>\n",
       "    <tr>\n",
       "      <th id=\"T_29741_level0_row13\" class=\"row_heading level0 row13\" >Canada</th>\n",
       "      <td id=\"T_29741_row13_col0\" class=\"data row13 col0\" >75947.000000</td>\n",
       "      <td id=\"T_29741_row13_col1\" class=\"data row13 col1\" >5679.000000</td>\n",
       "    </tr>\n",
       "    <tr>\n",
       "      <th id=\"T_29741_level0_row14\" class=\"row_heading level0 row14\" >Belgium</th>\n",
       "      <td id=\"T_29741_row14_col0\" class=\"data row14 col0\" >54644.000000</td>\n",
       "      <td id=\"T_29741_row14_col1\" class=\"data row14 col1\" >8959.000000</td>\n",
       "    </tr>\n",
       "    <tr>\n",
       "      <th id=\"T_29741_level0_row15\" class=\"row_heading level0 row15\" >Saudi Arabia</th>\n",
       "      <td id=\"T_29741_row15_col0\" class=\"data row15 col0\" >49176.000000</td>\n",
       "      <td id=\"T_29741_row15_col1\" class=\"data row15 col1\" >292.000000</td>\n",
       "    </tr>\n",
       "    <tr>\n",
       "      <th id=\"T_29741_level0_row16\" class=\"row_heading level0 row16\" >Mexico</th>\n",
       "      <td id=\"T_29741_row16_col0\" class=\"data row16 col0\" >45032.000000</td>\n",
       "      <td id=\"T_29741_row16_col1\" class=\"data row16 col1\" >4767.000000</td>\n",
       "    </tr>\n",
       "    <tr>\n",
       "      <th id=\"T_29741_level0_row17\" class=\"row_heading level0 row17\" >Netherlands</th>\n",
       "      <td id=\"T_29741_row17_col0\" class=\"data row17 col0\" >43880.000000</td>\n",
       "      <td id=\"T_29741_row17_col1\" class=\"data row17 col1\" >5662.000000</td>\n",
       "    </tr>\n",
       "    <tr>\n",
       "      <th id=\"T_29741_level0_row18\" class=\"row_heading level0 row18\" >Chile</th>\n",
       "      <td id=\"T_29741_row18_col0\" class=\"data row18 col0\" >39542.000000</td>\n",
       "      <td id=\"T_29741_row18_col1\" class=\"data row18 col1\" >394.000000</td>\n",
       "    </tr>\n",
       "    <tr>\n",
       "      <th id=\"T_29741_level0_row19\" class=\"row_heading level0 row19\" >Pakistan</th>\n",
       "      <td id=\"T_29741_row19_col0\" class=\"data row19 col0\" >38799.000000</td>\n",
       "      <td id=\"T_29741_row19_col1\" class=\"data row19 col1\" >834.000000</td>\n",
       "    </tr>\n",
       "  </tbody>\n",
       "</table>\n"
      ],
      "text/plain": [
       "<pandas.io.formats.style.Styler at 0x1e1e167a460>"
      ]
     },
     "execution_count": 17,
     "metadata": {},
     "output_type": "execute_result"
    }
   ],
   "source": [
    "df_confirmedcases[:20].set_index('Country').style.background_gradient(cmap='Oranges')"
   ]
  },
  {
   "cell_type": "code",
   "execution_count": null,
   "metadata": {},
   "outputs": [],
   "source": []
  }
 ],
 "metadata": {
  "kernelspec": {
   "display_name": "base",
   "language": "python",
   "name": "python3"
  },
  "language_info": {
   "codemirror_mode": {
    "name": "ipython",
    "version": 3
   },
   "file_extension": ".py",
   "mimetype": "text/x-python",
   "name": "python",
   "nbconvert_exporter": "python",
   "pygments_lexer": "ipython3",
   "version": "3.9.7"
  },
  "orig_nbformat": 4
 },
 "nbformat": 4,
 "nbformat_minor": 2
}
